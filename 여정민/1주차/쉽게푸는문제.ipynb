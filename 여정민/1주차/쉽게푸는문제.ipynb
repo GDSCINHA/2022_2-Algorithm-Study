{
 "cells": [
  {
   "cell_type": "code",
   "execution_count": null,
   "metadata": {},
   "outputs": [],
   "source": [
    "\n",
    "\n",
    "li = 0\n",
    "li = list(range(1,10))\n",
    "def dongsum(A,B):\n",
    "    for i in range(0,10):\n",
    "        for k in range(i+1):\n",
    "            if (k>A and k<B):\n",
    "                print(li[k])\n",
    "                \n",
    "            \n",
    "dongsum(3,7)\n"
   ]
  }
 ],
 "metadata": {
  "language_info": {
   "name": "python"
  },
  "orig_nbformat": 4
 },
 "nbformat": 4,
 "nbformat_minor": 2
}
